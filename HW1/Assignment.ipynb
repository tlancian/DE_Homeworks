{
 "cells": [
  {
   "cell_type": "code",
   "execution_count": 1,
   "metadata": {
    "collapsed": true
   },
   "outputs": [],
   "source": [
    "#### LIBRARIES NEEDED ####\n",
    "\n",
    "import requests\n",
    "from bs4 import BeautifulSoup\n",
    "from selenium import webdriver\n",
    "import time"
   ]
  },
  {
   "cell_type": "code",
   "execution_count": 8,
   "metadata": {},
   "outputs": [],
   "source": [
    "#### FUNCTIONS ####\n",
    "\n",
    "\n",
    "## Get Influenza's related words\n",
    "\n",
    "def get_outlinks(url):\n",
    "    '''This function takes the out links of a page given in url.\n",
    "        /wiki is the starting tag of wikipedia pages\n",
    "        PMID is the tag for counting the citations in a page (we are not interested about it)'''\n",
    "    \n",
    "    base_wiki_url = \"https://it.wikipedia.org/wiki/\"\n",
    "    \n",
    "    # Request the page\n",
    "    page_response = requests.get(url)\n",
    "    \n",
    "    # Parse the page\n",
    "    soup = BeautifulSoup(page_response.content, \"html.parser\")\n",
    "    \n",
    "    #Add out-links\n",
    "    edges = []\n",
    "    one_hop_links = []\n",
    "    \n",
    "    # Get neighbors of seed-url\n",
    "    for link in soup.find_all('a'):\n",
    "        temp = str(link.get('href'))\n",
    "        if temp[0:5] == \"/wiki\" and \"PMID\" not in temp and \":\" not in temp and \"secolo\" not in temp:\n",
    "            try:\n",
    "                int(temp[-4:])\n",
    "            except:\n",
    "                one_hop_links.append(temp[6:])\n",
    "                edges.append(frozenset([\"influenza\", temp[6:]]))\n",
    "    \n",
    "    one_hop_links = list(set(one_hop_links))\n",
    "    \n",
    "    print(one_hop_links)\n",
    "        \n",
    "    for page in one_hop_links:\n",
    "        \n",
    "        url = base_wiki_url + page\n",
    "        \n",
    "        # Request the page\n",
    "        page_response = requests.get(url)\n",
    "        \n",
    "        # Parse the page\n",
    "        soup = BeautifulSoup(page_response.content, \"html.parser\")\n",
    "        \n",
    "        # Get neighbors of seed-url\n",
    "        for link in soup.find_all('a'):\n",
    "            temp = str(link.get('href'))\n",
    "            if temp[0:5] == \"/wiki\" and \"PMID\" not in temp and \":\" not in temp and \"secolo\" not in temp:\n",
    "                try:\n",
    "                    int(temp[-4:])\n",
    "                except:\n",
    "                    edges.append(frozenset([page, temp[6:]]))\n",
    "    \n",
    "    return edges\n",
    "\n",
    "def get_data(words):\n",
    "    \n",
    "    if len(words) > 10:\n",
    "        return print(\"No man, you can put just 10 words maximum\")\n",
    "\n",
    "    bs_url = \"https://tools.wmflabs.org/pageviews/?project=it.wikipedia.org&platform=all-access&agent=user&range=all-time&pages=\"+\"|\".join(words)\n",
    "\n",
    "    driver = webdriver.Chrome()\n",
    "    driver.get(bs_url)\n",
    "    \n",
    "    time.sleep(10)\n",
    "\n",
    "    first_click = driver.find_elements_by_tag_name(\"button\")\n",
    "    first_click[6].click()\n",
    "    \n",
    "    driver.find_element_by_class_name(\"download-csv\").click()\n",
    "\n",
    "\n"
   ]
  },
  {
   "cell_type": "markdown",
   "metadata": {},
   "source": [
    "# Pipeline"
   ]
  },
  {
   "cell_type": "markdown",
   "metadata": {},
   "source": [
    "- Get Influenza's related words\n",
    "- Get Data and Ground Truth\n",
    "- Build Time Series\n",
    "- Measure Correlation\n",
    "- Model it!"
   ]
  },
  {
   "cell_type": "markdown",
   "metadata": {},
   "source": [
    "### Get Influenza's related words"
   ]
  },
  {
   "cell_type": "markdown",
   "metadata": {},
   "source": [
    "Explain what we're going to do"
   ]
  },
  {
   "cell_type": "code",
   "execution_count": 9,
   "metadata": {},
   "outputs": [
    {
     "name": "stdout",
     "output_type": "stream",
     "text": [
      "['Sindrome_di_Reye', 'Legionellosi', 'Naso', 'EMedicine', 'Sarcoidosi', 'Testa', 'Influenza_spagnola', 'Salasso', 'Fotofobia', 'Otite', 'Bronchiolite_obliterante', 'Istituto_Superiore_di_Sanit%C3%A0', 'Pneumomediastino', 'Rinite_allergica', 'Rinite_vasomotoria', 'Vaccino_influenza_stagionale', 'Virus_parainfluenzali_umani', 'Digital_object_identifier', 'Aspergillosi_broncopolmonare_allergica', 'Insufficienza_respiratoria', 'Organizzazione_Mondiale_della_Sanit%C3%A0', 'Berilliosi', 'Setto_nasale#Ematoma_del_setto_nasale', 'Antivirali', 'Bronchiectasia', 'Sindrome_di_Mendelson', 'Malattia_polmonare_restrittiva', 'Tonsille', 'Wendell_Stanley', 'Organizzazione_mondiale_della_sanit%C3%A0', 'Influenzavirus_C', 'Frank_Macfarlane_Burnet', 'Laringospasmo', 'Edema_polmonare', 'Reazioni_di_ipersensibilit%C3%A0#Ipersensibilit.C3.A0_di_Tipo_I_-_Tipo_anafilattico', 'Malattia_da_reflusso_faringo-laringeo', 'Tosse', 'Panbronchiolite_diffusa', 'Rinite_medicamentosa', 'Epiglottide', 'Polmonite_interstiziale_acuta', 'Rinite_atrofica', 'Interstiziopatia_polmonare', 'Inghilterra', 'Empiema_pleurico', 'Medicina_generale', 'Polmonite_da_ipersensibilit%C3%A0', 'Orthomyxoviridae', 'Fibrosi_da_bauxite', 'Azienda_farmaceutica', 'Ascesso_retrofaringeo', 'Influenza_di_Hong_Kong', 'Diabete', 'Emotorace', 'Rinite_non_allergica', 'Bronchite_cronica', 'Poliposi_naso-sinusale', 'Sindrome_di_L%C3%B6ffler', 'Virus_respiratorio_sinciziale_umano', 'Pleurite', 'Epidemiologia', 'Vaccino_influenzale', 'Artralgia', 'Nausea', 'Starnuto', 'Gemeinsame_Normdatei', 'Epatopatia', 'Seni_paranasali', 'Reazione_allergica', 'Influenza_aviaria', 'Asma', 'Pandemia', 'Sistema_immunitario', 'Polmonite_eosinofila', 'Ministero_della_Salute', 'Collo', 'Influenzavirus_A', 'Polmonite_atipica', 'Malattia', 'Faringite', 'Calicosi', 'New_Jersey', 'Pneumotorace', 'Influenza_suina', 'Tasso_di_mortalit%C3%A0', 'Proteinosi_alveolare_polmonare', 'Ozena', 'Tonsillite', 'Rinorrea', 'Ascesso_polmonare', 'Patologia', 'Oceano_Pacifico', 'Ultravioletto', 'Emisfero_boreale', 'Gastroenterite', 'Polmonite_interstiziale_non_specifica', 'Astrologia_occidentale', 'Emisfero_australe', 'Vomito', 'Influenzavirus_A_sottotipo_H1N1', 'Insufficienza_cardiaca', 'Artide', 'Laringite_cronica', 'Rinite', 'Bacteria', 'Talcosi', 'Reazione_a_catena_della_polimerasi', 'Virus_del_mosaico_del_tabacco', 'Enfisema', 'Tifo_esantematico', 'Febbre_suina', 'Cefalea', 'Sistema_respiratorio', 'Morbillo', 'Polmonite_interstiziale_desquamativa', 'Clamidia', 'SARS', 'Deviazione_del_setto_nasale', 'Effetto_collaterale_(medicina)', 'Febbre_tifoide', 'Fattore_di_rischio', 'Ascesso_peritonsillare', 'George_W._Bush', 'Perforazione_del_setto_nasale', 'Zoonosi', 'Peste_nera', 'Emoagglutinina', 'Noduli_vocali', 'Microscopio', 'Polmonite_ab_ingestis', 'Biblioteca_Nazionale_Centrale_di_Firenze', 'Rinascimento_italiano', 'ISBN', 'Chilotorace', 'Tracheite', 'Enciclopedia_Britannica', 'Polmonite_da_Mycoplasma', 'Laringite_acuta', 'Croup', 'International_Committee_on_Taxonomy_of_Viruses', 'Petecchia_(medicina)', 'Bronchite', 'Laringe', 'Bronchite_acuta', 'Emopneumotorace', 'Ipertensione_polmonare', 'Vaccino_antinfluenzale', 'Coronaropatia', 'Difterite', 'Etanolo', 'Amantadina', 'Silicosi', 'Pneumoconiosi', 'Baritosi', 'Cavit%C3%A0_pleurica', 'Epiglottite', 'Influenza', 'DNA_ricombinante', 'Scompenso_cardiaco', 'Italia', 'Influenza_asiatica', 'Ceppo_virale', 'Setto_nasale', 'Raffreddore_comune', 'Kansas', 'Contagio', 'Rinite_gravidica', 'Antracosi', 'H1N1', 'Pneumologia', 'Patogenesi', 'Embolia_polmonare', 'Rinite_difterica', 'Rinotracheite_virale_felina', 'Cina', 'Siderosi', 'Colera', 'Oseltamivir', 'Ipoclorito_di_sodio', 'Prima_guerra_mondiale', 'Internet_Archive', 'Antibiotico', 'Klebsiella', 'Dengue', 'Polymerase_chain_reaction', 'Mutazione', 'Asbestosi', 'H5N1', 'Paracetamolo', 'Sindrome_da_distress_respiratorio', 'Prodotto_interno_lordo', 'Pertosse', 'Inverno', 'Ammonio_quaternario', 'Sindrome_di_Caplan', 'Fibrosi_polmonare', 'Vitamina_D', 'AIDS', 'Faringe', 'Polmoniti_interstiziali_idiopatiche', 'Eziologia', 'Sequenziamento_del_DNA', 'Malattia_professionale', 'Bronchiolite_obliterante_-_polmonite_in_organizzazione', 'Pagina_principale', 'Neuraminidasi', 'Mediastinite', 'Febbre', 'Mialgia', 'MedlinePlus', 'Virus_a_RNA', 'Bronchiolite', 'Aspirina', 'Dottrina_miasmatico-umorale', 'Idrotorace', 'Malattia_infettiva', 'Faringite_streptococcica', 'Mediastino', 'Pandemia_influenzale', 'Bronco', 'Universit%C3%A0_del_Michigan', 'Statunitensi', 'Atelectasia', 'Vietnam', 'Pneumococco', 'Sinusite', 'Broncopneumopatia_cronica_ostruttiva', 'Medical_Subject_Headings', 'Genoma', 'Trachea', 'Neoplasia', 'Polmonite', 'Corde_vocali', 'Library_of_Congress_Control_Number', 'Dizionario_storico_della_Svizzera', 'Versamento_pleurico', 'Fibrotorace', 'Fibrosi_polmonare_idiopatica', 'Ippocrate_di_Coo', 'Pinnipedia', 'Zanamivir', 'Espettorato']\n"
     ]
    },
    {
     "ename": "KeyboardInterrupt",
     "evalue": "",
     "output_type": "error",
     "traceback": [
      "\u001b[1;31m---------------------------------------------------------------------------\u001b[0m",
      "\u001b[1;31mKeyboardInterrupt\u001b[0m                         Traceback (most recent call last)",
      "\u001b[1;32m<ipython-input-9-f2a1bebaaaf2>\u001b[0m in \u001b[0;36m<module>\u001b[1;34m()\u001b[0m\n\u001b[0;32m      2\u001b[0m \u001b[0mseed_url\u001b[0m \u001b[1;33m=\u001b[0m \u001b[1;34m\"https://it.wikipedia.org/wiki/Influenza\"\u001b[0m\u001b[1;33m\u001b[0m\u001b[0m\n\u001b[0;32m      3\u001b[0m \u001b[1;33m\u001b[0m\u001b[0m\n\u001b[1;32m----> 4\u001b[1;33m \u001b[0mwiki_links\u001b[0m \u001b[1;33m=\u001b[0m \u001b[0mget_outlinks\u001b[0m\u001b[1;33m(\u001b[0m\u001b[0mseed_url\u001b[0m\u001b[1;33m)\u001b[0m\u001b[1;33m\u001b[0m\u001b[0m\n\u001b[0m",
      "\u001b[1;32m<ipython-input-8-43ca6e94ed11>\u001b[0m in \u001b[0;36mget_outlinks\u001b[1;34m(url)\u001b[0m\n\u001b[0;32m     43\u001b[0m \u001b[1;33m\u001b[0m\u001b[0m\n\u001b[0;32m     44\u001b[0m         \u001b[1;31m# Parse the page\u001b[0m\u001b[1;33m\u001b[0m\u001b[1;33m\u001b[0m\u001b[0m\n\u001b[1;32m---> 45\u001b[1;33m         \u001b[0msoup\u001b[0m \u001b[1;33m=\u001b[0m \u001b[0mBeautifulSoup\u001b[0m\u001b[1;33m(\u001b[0m\u001b[0mpage_response\u001b[0m\u001b[1;33m.\u001b[0m\u001b[0mcontent\u001b[0m\u001b[1;33m,\u001b[0m \u001b[1;34m\"html.parser\"\u001b[0m\u001b[1;33m)\u001b[0m\u001b[1;33m\u001b[0m\u001b[0m\n\u001b[0m\u001b[0;32m     46\u001b[0m \u001b[1;33m\u001b[0m\u001b[0m\n\u001b[0;32m     47\u001b[0m         \u001b[1;31m# Get neighbors of seed-url\u001b[0m\u001b[1;33m\u001b[0m\u001b[1;33m\u001b[0m\u001b[0m\n",
      "\u001b[1;32mC:\\Users\\tomma\\Anaconda3\\lib\\site-packages\\bs4\\__init__.py\u001b[0m in \u001b[0;36m__init__\u001b[1;34m(self, markup, features, builder, parse_only, from_encoding, exclude_encodings, **kwargs)\u001b[0m\n\u001b[0;32m    226\u001b[0m             \u001b[0mself\u001b[0m\u001b[1;33m.\u001b[0m\u001b[0mreset\u001b[0m\u001b[1;33m(\u001b[0m\u001b[1;33m)\u001b[0m\u001b[1;33m\u001b[0m\u001b[0m\n\u001b[0;32m    227\u001b[0m             \u001b[1;32mtry\u001b[0m\u001b[1;33m:\u001b[0m\u001b[1;33m\u001b[0m\u001b[0m\n\u001b[1;32m--> 228\u001b[1;33m                 \u001b[0mself\u001b[0m\u001b[1;33m.\u001b[0m\u001b[0m_feed\u001b[0m\u001b[1;33m(\u001b[0m\u001b[1;33m)\u001b[0m\u001b[1;33m\u001b[0m\u001b[0m\n\u001b[0m\u001b[0;32m    229\u001b[0m                 \u001b[1;32mbreak\u001b[0m\u001b[1;33m\u001b[0m\u001b[0m\n\u001b[0;32m    230\u001b[0m             \u001b[1;32mexcept\u001b[0m \u001b[0mParserRejectedMarkup\u001b[0m\u001b[1;33m:\u001b[0m\u001b[1;33m\u001b[0m\u001b[0m\n",
      "\u001b[1;32mC:\\Users\\tomma\\Anaconda3\\lib\\site-packages\\bs4\\__init__.py\u001b[0m in \u001b[0;36m_feed\u001b[1;34m(self)\u001b[0m\n\u001b[0;32m    287\u001b[0m         \u001b[0mself\u001b[0m\u001b[1;33m.\u001b[0m\u001b[0mbuilder\u001b[0m\u001b[1;33m.\u001b[0m\u001b[0mreset\u001b[0m\u001b[1;33m(\u001b[0m\u001b[1;33m)\u001b[0m\u001b[1;33m\u001b[0m\u001b[0m\n\u001b[0;32m    288\u001b[0m \u001b[1;33m\u001b[0m\u001b[0m\n\u001b[1;32m--> 289\u001b[1;33m         \u001b[0mself\u001b[0m\u001b[1;33m.\u001b[0m\u001b[0mbuilder\u001b[0m\u001b[1;33m.\u001b[0m\u001b[0mfeed\u001b[0m\u001b[1;33m(\u001b[0m\u001b[0mself\u001b[0m\u001b[1;33m.\u001b[0m\u001b[0mmarkup\u001b[0m\u001b[1;33m)\u001b[0m\u001b[1;33m\u001b[0m\u001b[0m\n\u001b[0m\u001b[0;32m    290\u001b[0m         \u001b[1;31m# Close out any unfinished strings and close all the open tags.\u001b[0m\u001b[1;33m\u001b[0m\u001b[1;33m\u001b[0m\u001b[0m\n\u001b[0;32m    291\u001b[0m         \u001b[0mself\u001b[0m\u001b[1;33m.\u001b[0m\u001b[0mendData\u001b[0m\u001b[1;33m(\u001b[0m\u001b[1;33m)\u001b[0m\u001b[1;33m\u001b[0m\u001b[0m\n",
      "\u001b[1;32mC:\\Users\\tomma\\Anaconda3\\lib\\site-packages\\bs4\\builder\\_htmlparser.py\u001b[0m in \u001b[0;36mfeed\u001b[1;34m(self, markup)\u001b[0m\n\u001b[0;32m    213\u001b[0m         \u001b[0mparser\u001b[0m\u001b[1;33m.\u001b[0m\u001b[0msoup\u001b[0m \u001b[1;33m=\u001b[0m \u001b[0mself\u001b[0m\u001b[1;33m.\u001b[0m\u001b[0msoup\u001b[0m\u001b[1;33m\u001b[0m\u001b[0m\n\u001b[0;32m    214\u001b[0m         \u001b[1;32mtry\u001b[0m\u001b[1;33m:\u001b[0m\u001b[1;33m\u001b[0m\u001b[0m\n\u001b[1;32m--> 215\u001b[1;33m             \u001b[0mparser\u001b[0m\u001b[1;33m.\u001b[0m\u001b[0mfeed\u001b[0m\u001b[1;33m(\u001b[0m\u001b[0mmarkup\u001b[0m\u001b[1;33m)\u001b[0m\u001b[1;33m\u001b[0m\u001b[0m\n\u001b[0m\u001b[0;32m    216\u001b[0m         \u001b[1;32mexcept\u001b[0m \u001b[0mHTMLParseError\u001b[0m \u001b[1;32mas\u001b[0m \u001b[0me\u001b[0m\u001b[1;33m:\u001b[0m\u001b[1;33m\u001b[0m\u001b[0m\n\u001b[0;32m    217\u001b[0m             warnings.warn(RuntimeWarning(\n",
      "\u001b[1;32mC:\\Users\\tomma\\Anaconda3\\lib\\html\\parser.py\u001b[0m in \u001b[0;36mfeed\u001b[1;34m(self, data)\u001b[0m\n\u001b[0;32m    109\u001b[0m         \"\"\"\n\u001b[0;32m    110\u001b[0m         \u001b[0mself\u001b[0m\u001b[1;33m.\u001b[0m\u001b[0mrawdata\u001b[0m \u001b[1;33m=\u001b[0m \u001b[0mself\u001b[0m\u001b[1;33m.\u001b[0m\u001b[0mrawdata\u001b[0m \u001b[1;33m+\u001b[0m \u001b[0mdata\u001b[0m\u001b[1;33m\u001b[0m\u001b[0m\n\u001b[1;32m--> 111\u001b[1;33m         \u001b[0mself\u001b[0m\u001b[1;33m.\u001b[0m\u001b[0mgoahead\u001b[0m\u001b[1;33m(\u001b[0m\u001b[1;36m0\u001b[0m\u001b[1;33m)\u001b[0m\u001b[1;33m\u001b[0m\u001b[0m\n\u001b[0m\u001b[0;32m    112\u001b[0m \u001b[1;33m\u001b[0m\u001b[0m\n\u001b[0;32m    113\u001b[0m     \u001b[1;32mdef\u001b[0m \u001b[0mclose\u001b[0m\u001b[1;33m(\u001b[0m\u001b[0mself\u001b[0m\u001b[1;33m)\u001b[0m\u001b[1;33m:\u001b[0m\u001b[1;33m\u001b[0m\u001b[0m\n",
      "\u001b[1;32mC:\\Users\\tomma\\Anaconda3\\lib\\html\\parser.py\u001b[0m in \u001b[0;36mgoahead\u001b[1;34m(self, end)\u001b[0m\n\u001b[0;32m    169\u001b[0m             \u001b[1;32mif\u001b[0m \u001b[0mstartswith\u001b[0m\u001b[1;33m(\u001b[0m\u001b[1;34m'<'\u001b[0m\u001b[1;33m,\u001b[0m \u001b[0mi\u001b[0m\u001b[1;33m)\u001b[0m\u001b[1;33m:\u001b[0m\u001b[1;33m\u001b[0m\u001b[0m\n\u001b[0;32m    170\u001b[0m                 \u001b[1;32mif\u001b[0m \u001b[0mstarttagopen\u001b[0m\u001b[1;33m.\u001b[0m\u001b[0mmatch\u001b[0m\u001b[1;33m(\u001b[0m\u001b[0mrawdata\u001b[0m\u001b[1;33m,\u001b[0m \u001b[0mi\u001b[0m\u001b[1;33m)\u001b[0m\u001b[1;33m:\u001b[0m \u001b[1;31m# < + letter\u001b[0m\u001b[1;33m\u001b[0m\u001b[0m\n\u001b[1;32m--> 171\u001b[1;33m                     \u001b[0mk\u001b[0m \u001b[1;33m=\u001b[0m \u001b[0mself\u001b[0m\u001b[1;33m.\u001b[0m\u001b[0mparse_starttag\u001b[0m\u001b[1;33m(\u001b[0m\u001b[0mi\u001b[0m\u001b[1;33m)\u001b[0m\u001b[1;33m\u001b[0m\u001b[0m\n\u001b[0m\u001b[0;32m    172\u001b[0m                 \u001b[1;32melif\u001b[0m \u001b[0mstartswith\u001b[0m\u001b[1;33m(\u001b[0m\u001b[1;34m\"</\"\u001b[0m\u001b[1;33m,\u001b[0m \u001b[0mi\u001b[0m\u001b[1;33m)\u001b[0m\u001b[1;33m:\u001b[0m\u001b[1;33m\u001b[0m\u001b[0m\n\u001b[0;32m    173\u001b[0m                     \u001b[0mk\u001b[0m \u001b[1;33m=\u001b[0m \u001b[0mself\u001b[0m\u001b[1;33m.\u001b[0m\u001b[0mparse_endtag\u001b[0m\u001b[1;33m(\u001b[0m\u001b[0mi\u001b[0m\u001b[1;33m)\u001b[0m\u001b[1;33m\u001b[0m\u001b[0m\n",
      "\u001b[1;32mC:\\Users\\tomma\\Anaconda3\\lib\\html\\parser.py\u001b[0m in \u001b[0;36mparse_starttag\u001b[1;34m(self, i)\u001b[0m\n\u001b[0;32m    343\u001b[0m             \u001b[0mself\u001b[0m\u001b[1;33m.\u001b[0m\u001b[0mhandle_startendtag\u001b[0m\u001b[1;33m(\u001b[0m\u001b[0mtag\u001b[0m\u001b[1;33m,\u001b[0m \u001b[0mattrs\u001b[0m\u001b[1;33m)\u001b[0m\u001b[1;33m\u001b[0m\u001b[0m\n\u001b[0;32m    344\u001b[0m         \u001b[1;32melse\u001b[0m\u001b[1;33m:\u001b[0m\u001b[1;33m\u001b[0m\u001b[0m\n\u001b[1;32m--> 345\u001b[1;33m             \u001b[0mself\u001b[0m\u001b[1;33m.\u001b[0m\u001b[0mhandle_starttag\u001b[0m\u001b[1;33m(\u001b[0m\u001b[0mtag\u001b[0m\u001b[1;33m,\u001b[0m \u001b[0mattrs\u001b[0m\u001b[1;33m)\u001b[0m\u001b[1;33m\u001b[0m\u001b[0m\n\u001b[0m\u001b[0;32m    346\u001b[0m             \u001b[1;32mif\u001b[0m \u001b[0mtag\u001b[0m \u001b[1;32min\u001b[0m \u001b[0mself\u001b[0m\u001b[1;33m.\u001b[0m\u001b[0mCDATA_CONTENT_ELEMENTS\u001b[0m\u001b[1;33m:\u001b[0m\u001b[1;33m\u001b[0m\u001b[0m\n\u001b[0;32m    347\u001b[0m                 \u001b[0mself\u001b[0m\u001b[1;33m.\u001b[0m\u001b[0mset_cdata_mode\u001b[0m\u001b[1;33m(\u001b[0m\u001b[0mtag\u001b[0m\u001b[1;33m)\u001b[0m\u001b[1;33m\u001b[0m\u001b[0m\n",
      "\u001b[1;32mC:\\Users\\tomma\\Anaconda3\\lib\\site-packages\\bs4\\builder\\_htmlparser.py\u001b[0m in \u001b[0;36mhandle_starttag\u001b[1;34m(self, name, attrs, handle_empty_element)\u001b[0m\n\u001b[0;32m     88\u001b[0m             \u001b[0mattrvalue\u001b[0m \u001b[1;33m=\u001b[0m \u001b[1;34m'\"\"'\u001b[0m\u001b[1;33m\u001b[0m\u001b[0m\n\u001b[0;32m     89\u001b[0m         \u001b[1;31m#print \"START\", name\u001b[0m\u001b[1;33m\u001b[0m\u001b[1;33m\u001b[0m\u001b[0m\n\u001b[1;32m---> 90\u001b[1;33m         \u001b[0mtag\u001b[0m \u001b[1;33m=\u001b[0m \u001b[0mself\u001b[0m\u001b[1;33m.\u001b[0m\u001b[0msoup\u001b[0m\u001b[1;33m.\u001b[0m\u001b[0mhandle_starttag\u001b[0m\u001b[1;33m(\u001b[0m\u001b[0mname\u001b[0m\u001b[1;33m,\u001b[0m \u001b[1;32mNone\u001b[0m\u001b[1;33m,\u001b[0m \u001b[1;32mNone\u001b[0m\u001b[1;33m,\u001b[0m \u001b[0mattr_dict\u001b[0m\u001b[1;33m)\u001b[0m\u001b[1;33m\u001b[0m\u001b[0m\n\u001b[0m\u001b[0;32m     91\u001b[0m         \u001b[1;32mif\u001b[0m \u001b[0mtag\u001b[0m \u001b[1;32mand\u001b[0m \u001b[0mtag\u001b[0m\u001b[1;33m.\u001b[0m\u001b[0mis_empty_element\u001b[0m \u001b[1;32mand\u001b[0m \u001b[0mhandle_empty_element\u001b[0m\u001b[1;33m:\u001b[0m\u001b[1;33m\u001b[0m\u001b[0m\n\u001b[0;32m     92\u001b[0m             \u001b[1;31m# Unlike other parsers, html.parser doesn't send separate end tag\u001b[0m\u001b[1;33m\u001b[0m\u001b[1;33m\u001b[0m\u001b[0m\n",
      "\u001b[1;32mC:\\Users\\tomma\\Anaconda3\\lib\\site-packages\\bs4\\__init__.py\u001b[0m in \u001b[0;36mhandle_starttag\u001b[1;34m(self, name, namespace, nsprefix, attrs)\u001b[0m\n\u001b[0;32m    463\u001b[0m \u001b[1;33m\u001b[0m\u001b[0m\n\u001b[0;32m    464\u001b[0m         tag = Tag(self, self.builder, name, namespace, nsprefix, attrs,\n\u001b[1;32m--> 465\u001b[1;33m                   self.currentTag, self._most_recent_element)\n\u001b[0m\u001b[0;32m    466\u001b[0m         \u001b[1;32mif\u001b[0m \u001b[0mtag\u001b[0m \u001b[1;32mis\u001b[0m \u001b[1;32mNone\u001b[0m\u001b[1;33m:\u001b[0m\u001b[1;33m\u001b[0m\u001b[0m\n\u001b[0;32m    467\u001b[0m             \u001b[1;32mreturn\u001b[0m \u001b[0mtag\u001b[0m\u001b[1;33m\u001b[0m\u001b[0m\n",
      "\u001b[1;32mC:\\Users\\tomma\\Anaconda3\\lib\\site-packages\\bs4\\element.py\u001b[0m in \u001b[0;36m__init__\u001b[1;34m(self, parser, builder, name, namespace, prefix, attrs, parent, previous, is_xml)\u001b[0m\n\u001b[0;32m    837\u001b[0m         \u001b[1;32mif\u001b[0m \u001b[0mattrs\u001b[0m \u001b[1;32mis\u001b[0m \u001b[1;32mNone\u001b[0m\u001b[1;33m:\u001b[0m\u001b[1;33m\u001b[0m\u001b[0m\n\u001b[0;32m    838\u001b[0m             \u001b[0mattrs\u001b[0m \u001b[1;33m=\u001b[0m \u001b[1;33m{\u001b[0m\u001b[1;33m}\u001b[0m\u001b[1;33m\u001b[0m\u001b[0m\n\u001b[1;32m--> 839\u001b[1;33m         \u001b[1;32melif\u001b[0m \u001b[0mattrs\u001b[0m\u001b[1;33m:\u001b[0m\u001b[1;33m\u001b[0m\u001b[0m\n\u001b[0m\u001b[0;32m    840\u001b[0m             \u001b[1;32mif\u001b[0m \u001b[0mbuilder\u001b[0m \u001b[1;32mis\u001b[0m \u001b[1;32mnot\u001b[0m \u001b[1;32mNone\u001b[0m \u001b[1;32mand\u001b[0m \u001b[0mbuilder\u001b[0m\u001b[1;33m.\u001b[0m\u001b[0mcdata_list_attributes\u001b[0m\u001b[1;33m:\u001b[0m\u001b[1;33m\u001b[0m\u001b[0m\n\u001b[0;32m    841\u001b[0m                 attrs = builder._replace_cdata_list_attribute_values(\n",
      "\u001b[1;31mKeyboardInterrupt\u001b[0m: "
     ]
    }
   ],
   "source": [
    "# Starting Link\n",
    "seed_url = \"https://it.wikipedia.org/wiki/Influenza\"\n",
    "\n",
    "wiki_links = get_outlinks(seed_url)"
   ]
  },
  {
   "cell_type": "code",
   "execution_count": null,
   "metadata": {
    "collapsed": true
   },
   "outputs": [],
   "source": []
  },
  {
   "cell_type": "code",
   "execution_count": 34,
   "metadata": {
    "collapsed": true
   },
   "outputs": [],
   "source": [
    "a = [frozenset([4,5]),frozenset([4,5]),frozenset([5,6])]"
   ]
  },
  {
   "cell_type": "code",
   "execution_count": 35,
   "metadata": {},
   "outputs": [
    {
     "data": {
      "text/plain": [
       "{frozenset({5, 6}), frozenset({4, 5})}"
      ]
     },
     "execution_count": 35,
     "metadata": {},
     "output_type": "execute_result"
    }
   ],
   "source": [
    "set(a)"
   ]
  },
  {
   "cell_type": "code",
   "execution_count": null,
   "metadata": {
    "collapsed": true
   },
   "outputs": [],
   "source": []
  }
 ],
 "metadata": {
  "kernelspec": {
   "display_name": "Python 3",
   "language": "python",
   "name": "python3"
  },
  "language_info": {
   "codemirror_mode": {
    "name": "ipython",
    "version": 3
   },
   "file_extension": ".py",
   "mimetype": "text/x-python",
   "name": "python",
   "nbconvert_exporter": "python",
   "pygments_lexer": "ipython3",
   "version": "3.6.1"
  }
 },
 "nbformat": 4,
 "nbformat_minor": 2
}
